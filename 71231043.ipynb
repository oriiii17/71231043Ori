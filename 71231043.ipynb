{
 "cells": [
  {
   "cell_type": "code",
   "execution_count": 1,
   "id": "8370385c-0d43-4562-89ae-a316978b7790",
   "metadata": {},
   "outputs": [
    {
     "name": "stdout",
     "output_type": "stream",
     "text": [
      "File example.txt tidak ditemukan.\n"
     ]
    }
   ],
   "source": [
    "filename = 'example.txt'\n",
    "try:\n",
    "    file = open(filename, 'r')\n",
    "    print(\"File berhasil dibuka.\")\n",
    "except FileNotFoundError:\n",
    "    print(f\"File {filename} tidak ditemukan.\")\n"
   ]
  },
  {
   "cell_type": "code",
   "execution_count": null,
   "id": "e4fbea91-12d8-4dd0-b3b3-0da39081502f",
   "metadata": {},
   "outputs": [],
   "source": [
    "file.close()"
   ]
  },
  {
   "cell_type": "code",
   "execution_count": null,
   "id": "ce341eb3-3e78-43e9-86b3-ec8092cbf210",
   "metadata": {},
   "outputs": [],
   "source": [
    "def read_and_compare_files(file_path1, file_path2):\n",
    "    \"\"\"Membaca dan membandingkan dua file, menampilkan perbedaan per baris.\"\"\"\n",
    "    try:\n",
    "        with open(file_path1, 'r') as file1, open(file_path2, 'r') as file2:\n",
    "            lines1 = file1.readlines()\n",
    "            lines2 = file2.readlines()\n",
    "    except FileNotFoundError as e:\n",
    "        print(f\"Error: {e}\")\n",
    "        return\n",
    "\n",
    "    max_lines = max(len(lines1), len(lines2))\n",
    "    for i in range(max_lines):\n",
    "        line1 = lines1[i].strip() if i < len(lines1) else ''\n",
    "        line2 = lines2[i].strip() if i < len(lines2) else ''\n",
    "        if line1 != line2:\n",
    "            print(f\"Perbedaan pada baris {i + 1}:\")\n",
    "            print(f\"File 1: {line1}\")\n",
    "            print(f\"File 2: {line2}\")\n",
    "\n",
    "def main():\n",
    "    file1_path = input(\"Masukkan nama/path file pertama: \")\n",
    "    file2_path = input(\"Masukkan nama/path file kedua: \")\n",
    "    read_and_compare_files(file1_path, file2_path)\n",
    "\n",
    "if __name__ == \"__main__\":\n",
    "    main()"
   ]
  },
  {
   "cell_type": "code",
   "execution_count": null,
   "id": "81a701a4-e548-48de-bd46-ddf997ba18b8",
   "metadata": {},
   "outputs": [],
   "source": [
    "with open(filename, 'r') as file:\n",
    "    content = file.read()\n",
    "    print(content)"
   ]
  },
  {
   "cell_type": "code",
   "execution_count": null,
   "id": "a6ff4613-6a74-4377-8ef9-0d7210375b18",
   "metadata": {},
   "outputs": [],
   "source": [
    "filename = 'example.txt'\n",
    "try:\n",
    "    with open(filename, 'r') as file:\n",
    "        for line in file:  \n",
    "            print(line.strip())  \n",
    "except FileNotFoundError:\n",
    "    print(f\"File {filename} tidak ditemukan.\")"
   ]
  },
  {
   "cell_type": "code",
   "execution_count": null,
   "id": "f4738cd7-d8c2-4ec6-9015-8b4c7204b480",
   "metadata": {},
   "outputs": [],
   "source": [
    "filename = 'output.txt'\n",
    "content = [\"Hello\", \"World\", \"This is a test file.\"]\n",
    "with open(filename, 'w') as file:\n",
    "    for line in content:\n",
    "        file.write(line + '\\n') "
   ]
  },
  {
   "cell_type": "code",
   "execution_count": null,
   "id": "2aa23c62-33cc-47b8-aad9-31814a117657",
   "metadata": {},
   "outputs": [],
   "source": [
    "filename = 'largefile.txt'\n",
    "try:\n",
    "    with open(filename, 'r') as file:\n",
    "        while True:\n",
    "            chunk = file.read(1024)  \n",
    "            if not chunk:\n",
    "                break\n",
    "            print(chunk)\n",
    "except FileNotFoundError:\n",
    "    print(f\"File {filename} tidak ditemukan.\")\n"
   ]
  },
  {
   "cell_type": "code",
   "execution_count": null,
   "id": "87e0d02f-d628-4173-ac3a-6160553d771b",
   "metadata": {},
   "outputs": [],
   "source": [
    "def load_questions(filename):\n",
    "    \"\"\"Membaca soal dan jawaban dari file dan mengembalikannya sebagai list tuple.\"\"\"\n",
    "    questions = []\n",
    "    try:\n",
    "        with open(filename, 'r') as file:\n",
    "            lines = file.readlines()\n",
    "            for line in lines:\n",
    "                parts = line.strip().split('||')\n",
    "                if len(parts) == 2:\n",
    "                    questions.append((parts[0].strip(), parts[1].strip().lower()))\n",
    "    except FileNotFoundError:\n",
    "        print(f\"Error: File '{filename}' tidak ditemukan.\")\n",
    "        return None\n",
    "    return questions\n",
    "\n",
    "def quiz(questions):\n",
    "    \"\"\"Menjalankan kuis dengan soal dan jawaban yang diberikan.\"\"\"\n",
    "    if not questions:\n",
    "        return\n",
    "    for question, correct_answer in questions:\n",
    "        user_answer = input(question + \" Jawab: \").lower()\n",
    "        if user_answer == correct_answer:\n",
    "            print(\"Jawaban benar!\")\n",
    "        else:\n",
    "            print(\"Jawaban salah!\")\n",
    "\n",
    "def main():\n",
    "    filename = 'soal.txt'\n",
    "    questions = load_questions(filename)\n",
    "    if questions is not None:\n",
    "        quiz(questions)\n",
    "\n",
    "if __name__ == \"__main__\":\n",
    "    main()\n"
   ]
  }
 ],
 "metadata": {
  "kernelspec": {
   "display_name": "Python 3 (ipykernel)",
   "language": "python",
   "name": "python3"
  },
  "language_info": {
   "codemirror_mode": {
    "name": "ipython",
    "version": 3
   },
   "file_extension": ".py",
   "mimetype": "text/x-python",
   "name": "python",
   "nbconvert_exporter": "python",
   "pygments_lexer": "ipython3",
   "version": "3.11.7"
  }
 },
 "nbformat": 4,
 "nbformat_minor": 5
}
